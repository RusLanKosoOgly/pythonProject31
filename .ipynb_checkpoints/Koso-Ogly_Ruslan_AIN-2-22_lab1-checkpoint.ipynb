{
 "cells": [
  {
   "cell_type": "code",
   "execution_count": 8,
   "id": "6cabceb7-beb6-4c49-a3de-dcd8e0e06d8c",
   "metadata": {},
   "outputs": [],
   "source": [
    "i=10"
   ]
  },
  {
   "cell_type": "code",
   "execution_count": 9,
   "id": "e10bfb05-7180-4bf2-9e79-7e70323f67e1",
   "metadata": {},
   "outputs": [
    {
     "name": "stdout",
     "output_type": "stream",
     "text": [
      "10\n"
     ]
    }
   ],
   "source": [
    "print(i)"
   ]
  },
  {
   "cell_type": "code",
   "execution_count": 10,
   "id": "bb29d533-f8bd-4c25-9688-01f5f2d1b851",
   "metadata": {},
   "outputs": [],
   "source": [
    "t=type(i)"
   ]
  },
  {
   "cell_type": "code",
   "execution_count": 11,
   "id": "d11c1778-d3f3-43b6-8071-a201af2893c7",
   "metadata": {},
   "outputs": [
    {
     "name": "stdout",
     "output_type": "stream",
     "text": [
      "<class 'int'>\n"
     ]
    }
   ],
   "source": [
    "print(t)"
   ]
  },
  {
   "cell_type": "code",
   "execution_count": 17,
   "id": "2c6befb8-97cd-4949-aabb-763201d96927",
   "metadata": {},
   "outputs": [
    {
     "name": "stdout",
     "output_type": "stream",
     "text": [
      "<class 'bool'>\n",
      "string\n",
      "[1, 2, 3]\n",
      "{'aa': 1, 'bb': 2}\n",
      "1\n",
      "<class 'NoneType'>\n"
     ]
    }
   ],
   "source": [
    "a=False\n",
    "t=type(a)\n",
    "print (t)\n",
    "l=\"string\"\n",
    "print(l)\n",
    "b=[1,2,3]\n",
    "print(b)\n",
    "c={'aa':1, \"bb\":2}\n",
    "print(c)\n",
    "print(c['aa'])\n",
    "d = None\n",
    "print(type(d))"
   ]
  },
  {
   "cell_type": "code",
   "execution_count": 20,
   "id": "e1c33a13-0003-4741-9d83-d7b823990f74",
   "metadata": {},
   "outputs": [
    {
     "name": "stdout",
     "output_type": "stream",
     "text": [
      "корень из 144 равен  12.0\n",
      "факториал 5 равен  120\n",
      "факториал 5 равен  4.0\n"
     ]
    }
   ],
   "source": [
    "import math\n",
    "p=math.sqrt(144)\n",
    "print('корень из 144 равен ', p)\n",
    "p=math.factorial(5)\n",
    "print('факториал 5 равен ',p)\n",
    "p=math.log(16,2)\n",
    "print('логарифм 16 по основанию 2 равен ',p)"
   ]
  },
  {
   "cell_type": "code",
   "execution_count": 21,
   "id": "b7284a5d-47bc-4466-ad18-106f160efb95",
   "metadata": {},
   "outputs": [
    {
     "name": "stdout",
     "output_type": "stream",
     "text": [
      "5.220274555540264e-22\n"
     ]
    }
   ],
   "source": [
    "def func(t):\n",
    "    f=(9*math.pi*t+10*math.cos(math.cos(t)))*math.e/(math.sqrt(t)-math.sin(math.sin(t)))\n",
    "    f=math.pow(f, -2*t)\n",
    "    return f\n",
    "print(func(5))\n"
   ]
  },
  {
   "cell_type": "code",
   "execution_count": 29,
   "id": "ed9e49da-ec7f-4bec-b54d-7e9104b0b15e",
   "metadata": {},
   "outputs": [
    {
     "name": "stdout",
     "output_type": "stream",
     "text": [
      "первое число входит в дипаозон\n",
      "третье число входит в дипаозон\n",
      "количество чисел входящих в диапозон равно  2\n"
     ]
    }
   ],
   "source": [
    "def tri(a,b,c):\n",
    "    i=0\n",
    "    if(0<a and a<10):\n",
    "        i=i+1\n",
    "        print(\"первое число входит в дипаозон\")\n",
    "    if(0<b and b<10):\n",
    "          i=i+1\n",
    "          print(\"второе число входит в дипаозон\")\n",
    "    if(0<c and c<10):\n",
    "          i=i+1\n",
    "          print(\"третье число входит в дипаозон\")\n",
    "    return(i)\n",
    "print('количество чисел входящих в диапозон равно ', tri(1,22,3))\n",
    "    \n",
    "        "
   ]
  },
  {
   "cell_type": "code",
   "execution_count": 31,
   "id": "8e2a22a3-7118-4f02-b317-345fccfd133d",
   "metadata": {},
   "outputs": [
    {
     "name": "stdout",
     "output_type": "stream",
     "text": [
      "рандомное число от 1 до 20 под номером 1  равно  4\n",
      "рандомное число от 1 до 20 под номером 2  равно  6\n",
      "рандомное число от 1 до 20 под номером 3  равно  10\n",
      "рандомное число от 1 до 20 под номером 4  равно  9\n",
      "рандомное число от 1 до 20 под номером 5  равно  6\n",
      "рандомное число от 1 до 20 под номером 6  равно  9\n",
      "рандомное число от 1 до 20 под номером 7  равно  8\n",
      "рандомное число от 1 до 20 под номером 8  равно  5\n",
      "рандомное число от 1 до 20 под номером 9  равно  8\n",
      "рандомное число от 1 до 20 под номером 10  равно  5\n",
      "рандомное число от 1 до 20 под номером 11  равно  9\n",
      "рандомное число от 1 до 20 под номером 12  равно  7\n",
      "рандомное число от 1 до 20 под номером 13  равно  1\n",
      "рандомное число от 1 до 20 под номером 14  равно  6\n",
      "рандомное число от 1 до 20 под номером 15  равно  3\n",
      "рандомное число от 1 до 20 под номером 16  равно  10\n",
      "рандомное число от 1 до 20 под номером 17  равно  3\n",
      "рандомное число от 1 до 20 под номером 18  равно  8\n",
      "рандомное число от 1 до 20 под номером 19  равно  1\n",
      "рандомное число от 1 до 20 под номером 20  равно  8\n"
     ]
    }
   ],
   "source": [
    "import random\n",
    "\n",
    "i=1\n",
    "while i!=21:\n",
    "    print('рандомное число от 1 до 20 под номером',i,' равно ',random.randint(1, 10))\n",
    "    i=i+1\n"
   ]
  },
  {
   "cell_type": "code",
   "execution_count": 34,
   "id": "c983b8f0-8391-4c6e-a0c9-19d7ce618db6",
   "metadata": {
    "scrolled": true
   },
   "outputs": [
    {
     "name": "stdout",
     "output_type": "stream",
     "text": [
      "8.209021097669307\n"
     ]
    }
   ],
   "source": [
    "a=1\n",
    "b=0\n",
    "while a!=21:\n",
    "   b=b+(a)/(a+1+a+2)\n",
    "   a=a+1\n",
    "print(b)\n"
   ]
  },
  {
   "cell_type": "code",
   "execution_count": 36,
   "id": "38230739-122e-43a2-a863-1b86cb8cca02",
   "metadata": {},
   "outputs": [
    {
     "ename": "SyntaxError",
     "evalue": "invalid syntax (3911525678.py, line 1)",
     "output_type": "error",
     "traceback": [
      "\u001b[1;36m  Cell \u001b[1;32mIn[36], line 1\u001b[1;36m\u001b[0m\n\u001b[1;33m    $$\u001b[0m\n\u001b[1;37m    ^\u001b[0m\n\u001b[1;31mSyntaxError\u001b[0m\u001b[1;31m:\u001b[0m invalid syntax\n"
     ]
    }
   ],
   "source": []
  },
  {
   "cell_type": "code",
   "execution_count": null,
   "id": "c5f8cdff-1c1c-4d6e-a0f0-184e1e6a65b3",
   "metadata": {},
   "outputs": [],
   "source": []
  },
  {
   "cell_type": "code",
   "execution_count": null,
   "id": "fb1358ff-c2ed-4cbf-b5ff-69a4f47a736c",
   "metadata": {},
   "outputs": [],
   "source": []
  }
 ],
 "metadata": {
  "kernelspec": {
   "display_name": "Python 3 (ipykernel)",
   "language": "python",
   "name": "python3"
  },
  "language_info": {
   "codemirror_mode": {
    "name": "ipython",
    "version": 3
   },
   "file_extension": ".py",
   "mimetype": "text/x-python",
   "name": "python",
   "nbconvert_exporter": "python",
   "pygments_lexer": "ipython3",
   "version": "3.12.5"
  }
 },
 "nbformat": 4,
 "nbformat_minor": 5
}
